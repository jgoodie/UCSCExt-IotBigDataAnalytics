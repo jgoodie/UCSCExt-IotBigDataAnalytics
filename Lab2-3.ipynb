{
 "cells": [
  {
   "cell_type": "markdown",
   "metadata": {},
   "source": [
    "# LAB 2: Spark word count"
   ]
  },
  {
   "cell_type": "code",
   "execution_count": 1,
   "metadata": {},
   "outputs": [],
   "source": [
    "import pyspark\n",
    "from operator import add\n",
    "from pyspark.sql import SparkSession\n",
    "from pyspark.sql.functions import *"
   ]
  },
  {
   "cell_type": "code",
   "execution_count": 32,
   "metadata": {},
   "outputs": [],
   "source": [
    "textFile = spark.read.text(\"/opt/spark/README.md\")"
   ]
  },
  {
   "cell_type": "code",
   "execution_count": 33,
   "metadata": {},
   "outputs": [
    {
     "data": {
      "text/plain": [
       "103"
      ]
     },
     "execution_count": 33,
     "metadata": {},
     "output_type": "execute_result"
    }
   ],
   "source": [
    "textFile.count()"
   ]
  },
  {
   "cell_type": "code",
   "execution_count": 34,
   "metadata": {},
   "outputs": [
    {
     "data": {
      "text/plain": [
       "Row(value='# Apache Spark')"
      ]
     },
     "execution_count": 34,
     "metadata": {},
     "output_type": "execute_result"
    }
   ],
   "source": [
    "textFile.first()"
   ]
  },
  {
   "cell_type": "code",
   "execution_count": 35,
   "metadata": {},
   "outputs": [],
   "source": [
    "linesWithSpark = textFile.filter(textFile.value.contains(\"Spark\"))"
   ]
  },
  {
   "cell_type": "code",
   "execution_count": 36,
   "metadata": {},
   "outputs": [
    {
     "data": {
      "text/plain": [
       "20"
      ]
     },
     "execution_count": 36,
     "metadata": {},
     "output_type": "execute_result"
    }
   ],
   "source": [
    "linesWithSpark.count()"
   ]
  },
  {
   "cell_type": "code",
   "execution_count": 37,
   "metadata": {},
   "outputs": [
    {
     "data": {
      "text/plain": [
       "20"
      ]
     },
     "execution_count": 37,
     "metadata": {},
     "output_type": "execute_result"
    }
   ],
   "source": [
    "textFile.filter(textFile.value.contains(\"Spark\")).count()"
   ]
  },
  {
   "cell_type": "code",
   "execution_count": 38,
   "metadata": {},
   "outputs": [
    {
     "data": {
      "text/plain": [
       "[Row(max(numWords)=22)]"
      ]
     },
     "execution_count": 38,
     "metadata": {},
     "output_type": "execute_result"
    }
   ],
   "source": [
    "textFile.select(size(split(textFile.value, \"\\s+\")).name(\"numWords\")).agg(max(col(\"numWords\"))).collect()"
   ]
  },
  {
   "cell_type": "code",
   "execution_count": 39,
   "metadata": {},
   "outputs": [],
   "source": [
    "wordCounts = textFile.select(explode(split(textFile.value, \"\\s+\")).alias(\"word\")).groupBy(\"word\").count()"
   ]
  },
  {
   "cell_type": "code",
   "execution_count": 41,
   "metadata": {
    "scrolled": false
   },
   "outputs": [],
   "source": [
    "#wordCounts.collect()"
   ]
  },
  {
   "cell_type": "markdown",
   "metadata": {},
   "source": [
    "# LAB 3: Encryption"
   ]
  },
  {
   "cell_type": "code",
   "execution_count": 2,
   "metadata": {},
   "outputs": [
    {
     "name": "stdout",
     "output_type": "stream",
     "text": [
      "......................+++\n",
      ".....................................................................+++\n"
     ]
    }
   ],
   "source": [
    "!openssl genpkey -algorithm RSA -out private_key.pem -pkeyopt rsa_keygen_bits:2048"
   ]
  },
  {
   "cell_type": "code",
   "execution_count": 3,
   "metadata": {},
   "outputs": [
    {
     "name": "stdout",
     "output_type": "stream",
     "text": [
      "certs\t     Lab2-3.ipynb     scala-2.11.12.rpm\r\n",
      "derby.log    metastore_db     scala_script.sh\r\n",
      "hello.scala  private_key.pem  spark-2.3.3-bin-hadoop2.7.tgz\r\n"
     ]
    }
   ],
   "source": [
    "!ls"
   ]
  },
  {
   "cell_type": "code",
   "execution_count": 4,
   "metadata": {},
   "outputs": [
    {
     "name": "stdout",
     "output_type": "stream",
     "text": [
      "writing RSA key\r\n"
     ]
    }
   ],
   "source": [
    "!openssl rsa -pubout -in private_key.pem -out public_key.pem"
   ]
  },
  {
   "cell_type": "code",
   "execution_count": 5,
   "metadata": {},
   "outputs": [
    {
     "name": "stdout",
     "output_type": "stream",
     "text": [
      "certs\t     Lab2-3.ipynb     public_key.pem\t spark-2.3.3-bin-hadoop2.7.tgz\r\n",
      "derby.log    metastore_db     scala-2.11.12.rpm\r\n",
      "hello.scala  private_key.pem  scala_script.sh\r\n"
     ]
    }
   ],
   "source": [
    "!ls"
   ]
  },
  {
   "cell_type": "code",
   "execution_count": 7,
   "metadata": {},
   "outputs": [
    {
     "name": "stdout",
     "output_type": "stream",
     "text": [
      "-----BEGIN PUBLIC KEY-----\r\n",
      "MIIBIjANBgkqhkiG9w0BAQEFAAOCAQ8AMIIBCgKCAQEA1eXTHOXmCCoa9Np65LzJ\r\n",
      "ZjdMwT7Eonlyj1kv+sw7BKVOyStOckfcGSq2HSD7m/4/gkRHvjEBkLpKOXwJYUAy\r\n",
      "l9m25lWwBfIkq6g7S97TDHXwJmekBxlxtuS/4mSt0Gnfp5agQR28jcroLBQOv+jj\r\n",
      "OLZk1/yCKm0ixf/o9A5Pr/B2gNXZF8K7dPdIVZkgMkLapXfrN7leYdocjS+AsMX/\r\n",
      "IXV6DnQ7ZzKwi//ReQje2SQF5wSeseCp9qJauvVP0iwnPTKXqWNacZIPsyRrxT87\r\n",
      "gJkRzvdhnNYgLYcd3EvJbyV5EbnGIz9cFHqYpnoDj+kS6OAORnp512SHbhGdT+eU\r\n",
      "bQIDAQAB\r\n",
      "-----END PUBLIC KEY-----\r\n"
     ]
    }
   ],
   "source": [
    "!cat public_key.pem"
   ]
  },
  {
   "cell_type": "code",
   "execution_count": 8,
   "metadata": {},
   "outputs": [],
   "source": [
    "!echo \"Hello IoT\" > iot-data.txt"
   ]
  },
  {
   "cell_type": "code",
   "execution_count": 9,
   "metadata": {},
   "outputs": [
    {
     "name": "stdout",
     "output_type": "stream",
     "text": [
      "certs\t     iot-data.txt  private_key.pem    scala_script.sh\r\n",
      "derby.log    Lab2-3.ipynb  public_key.pem     spark-2.3.3-bin-hadoop2.7.tgz\r\n",
      "hello.scala  metastore_db  scala-2.11.12.rpm\r\n"
     ]
    }
   ],
   "source": [
    "!ls"
   ]
  },
  {
   "cell_type": "code",
   "execution_count": 14,
   "metadata": {},
   "outputs": [],
   "source": [
    "!openssl aes-256-cbc -a -salt -in iot-data.txt -out iot-data.txt.enc -k abc123"
   ]
  },
  {
   "cell_type": "code",
   "execution_count": 15,
   "metadata": {},
   "outputs": [
    {
     "name": "stdout",
     "output_type": "stream",
     "text": [
      "certs\t     iot-data.txt      metastore_db\tscala-2.11.12.rpm\r\n",
      "derby.log    iot-data.txt.enc  private_key.pem\tscala_script.sh\r\n",
      "hello.scala  Lab2-3.ipynb      public_key.pem\tspark-2.3.3-bin-hadoop2.7.tgz\r\n"
     ]
    }
   ],
   "source": [
    "!ls"
   ]
  },
  {
   "cell_type": "code",
   "execution_count": 16,
   "metadata": {},
   "outputs": [
    {
     "name": "stdout",
     "output_type": "stream",
     "text": [
      "U2FsdGVkX18+ujelrArtgVW2LT4wSz0oC7OEnfTvuQc=\r\n"
     ]
    }
   ],
   "source": [
    "!cat iot-data.txt.enc"
   ]
  },
  {
   "cell_type": "code",
   "execution_count": 17,
   "metadata": {},
   "outputs": [
    {
     "name": "stdout",
     "output_type": "stream",
     "text": [
      "Hello IoT\r\n"
     ]
    }
   ],
   "source": [
    "!openssl aes-256-cbc -d -a -salt -in iot-data.txt.enc -pass pass:abc123"
   ]
  },
  {
   "cell_type": "code",
   "execution_count": 18,
   "metadata": {},
   "outputs": [],
   "source": [
    "!echo \"abc123\" > passwdfile"
   ]
  },
  {
   "cell_type": "code",
   "execution_count": 19,
   "metadata": {},
   "outputs": [
    {
     "name": "stdout",
     "output_type": "stream",
     "text": [
      "certs\t\t  Lab2-3.ipynb\t   scala-2.11.12.rpm\r\n",
      "derby.log\t  metastore_db\t   scala_script.sh\r\n",
      "hello.scala\t  passwdfile\t   spark-2.3.3-bin-hadoop2.7.tgz\r\n",
      "iot-data.txt\t  private_key.pem\r\n",
      "iot-data.txt.enc  public_key.pem\r\n"
     ]
    }
   ],
   "source": [
    "!ls"
   ]
  },
  {
   "cell_type": "code",
   "execution_count": 20,
   "metadata": {},
   "outputs": [
    {
     "name": "stdout",
     "output_type": "stream",
     "text": [
      "Hello IoT\r\n"
     ]
    }
   ],
   "source": [
    "!openssl aes-256-cbc -d -a -salt -in iot-data.txt.enc -pass file:./passwdfile"
   ]
  },
  {
   "cell_type": "code",
   "execution_count": 21,
   "metadata": {},
   "outputs": [
    {
     "name": "stdout",
     "output_type": "stream",
     "text": [
      "--2019-04-17 03:14:15--  https://raw.githubusercontent.com/hinkmond/iot-big-data-processing-and-analytics/master/lab3-iot-gendata.txt.enc\n",
      "Resolving raw.githubusercontent.com (raw.githubusercontent.com)... 151.101.52.133\n",
      "Connecting to raw.githubusercontent.com (raw.githubusercontent.com)|151.101.52.133|:443... connected.\n",
      "HTTP request sent, awaiting response... 200 OK\n",
      "Length: 585 [text/plain]\n",
      "Saving to: ‘lab3-iot-gendata.txt.enc’\n",
      "\n",
      "100%[======================================>] 585         --.-K/s   in 0s      \n",
      "\n",
      "2019-04-17 03:14:16 (99.9 MB/s) - ‘lab3-iot-gendata.txt.enc’ saved [585/585]\n",
      "\n"
     ]
    }
   ],
   "source": [
    "!wget https://raw.githubusercontent.com/hinkmond/iot-big-data-processing-and-analytics/master/lab3-iot-gendata.txt.enc"
   ]
  },
  {
   "cell_type": "code",
   "execution_count": 22,
   "metadata": {},
   "outputs": [],
   "source": [
    "!echo \"abc123\" > passwdfile"
   ]
  },
  {
   "cell_type": "code",
   "execution_count": 23,
   "metadata": {},
   "outputs": [],
   "source": [
    "!openssl aes-256-cbc -d -a -salt -in lab3-iot-gendata.txt.enc -pass file:./passwdfile > lab3-iot-gendata.txt"
   ]
  },
  {
   "cell_type": "code",
   "execution_count": 24,
   "metadata": {},
   "outputs": [
    {
     "name": "stdout",
     "output_type": "stream",
     "text": [
      "certs\t\t  Lab2-3.ipynb\t\t    private_key.pem\r\n",
      "derby.log\t  lab3-iot-gendata.txt\t    public_key.pem\r\n",
      "hello.scala\t  lab3-iot-gendata.txt.enc  scala-2.11.12.rpm\r\n",
      "iot-data.txt\t  metastore_db\t\t    scala_script.sh\r\n",
      "iot-data.txt.enc  passwdfile\t\t    spark-2.3.3-bin-hadoop2.7.tgz\r\n"
     ]
    }
   ],
   "source": [
    "!ls"
   ]
  },
  {
   "cell_type": "code",
   "execution_count": 25,
   "metadata": {},
   "outputs": [
    {
     "name": "stdout",
     "output_type": "stream",
     "text": [
      "77  84  76  68  81  82  103  85  73  82  82  63  77  79  86  101  62  87  74  102  76  100  104  74  62  88  60  65  98  81  82  92  79  90  81  78  98  85  94  93  65  77  96  95  64  79  71  70  90  63  78  64  103  61  92  82  90  61  96  65  74  90  96  73  89  96  90  104  73  89  82  89  97  70  64  65  86  85  81  77  85  75  95  96  75  82  83  91  96  76  83  73  71  90  99  67  99  71  81  77  \r\n"
     ]
    }
   ],
   "source": [
    "!cat lab3-iot-gendata.txt"
   ]
  },
  {
   "cell_type": "code",
   "execution_count": 28,
   "metadata": {},
   "outputs": [
    {
     "name": "stdout",
     "output_type": "stream",
     "text": [
      "  1 100 408 lab3-iot-gendata.txt\r\n"
     ]
    }
   ],
   "source": [
    "!wc lab3-iot-gendata.txt"
   ]
  },
  {
   "cell_type": "code",
   "execution_count": 5,
   "metadata": {},
   "outputs": [],
   "source": [
    "with open('lab3-iot-gendata.txt') as file:\n",
    "    line = file.readline()"
   ]
  },
  {
   "cell_type": "code",
   "execution_count": 6,
   "metadata": {},
   "outputs": [],
   "source": [
    "l = line.split()"
   ]
  },
  {
   "cell_type": "code",
   "execution_count": 7,
   "metadata": {
    "scrolled": true
   },
   "outputs": [
    {
     "data": {
      "text/plain": [
       "100"
      ]
     },
     "execution_count": 7,
     "metadata": {},
     "output_type": "execute_result"
    }
   ],
   "source": [
    "len(l)"
   ]
  },
  {
   "cell_type": "markdown",
   "metadata": {},
   "source": [
    "### Answer is 100... how to do with spark?"
   ]
  },
  {
   "cell_type": "code",
   "execution_count": 4,
   "metadata": {},
   "outputs": [
    {
     "data": {
      "text/plain": [
       "100"
      ]
     },
     "execution_count": 4,
     "metadata": {},
     "output_type": "execute_result"
    }
   ],
   "source": [
    "spark = SparkSession.builder.appName(\"PythonWordCount\").getOrCreate()\n",
    "lines = spark.read.text('lab3-iot-gendata.txt').rdd.map(lambda r: r[0])\n",
    "counts = lines.flatMap(lambda x: x.split()).map(lambda x: (x, 1)).reduceByKey(add)\n",
    "output = counts.collect()\n",
    "num_count = 0\n",
    "for (word, count) in output:\n",
    "    num_count = num_count + count\n",
    "num_count"
   ]
  },
  {
   "cell_type": "markdown",
   "metadata": {},
   "source": [
    "# Hinkmond's solution"
   ]
  },
  {
   "cell_type": "code",
   "execution_count": 11,
   "metadata": {},
   "outputs": [
    {
     "name": "stdout",
     "output_type": "stream",
     "text": [
      "100\n"
     ]
    }
   ],
   "source": [
    "text_file = sc.textFile(\"./lab3-iot-gendata.txt\")\n",
    "text_tokens = text_file.flatMap(lambda x: x.split(' '))\n",
    "def printmap(x):\n",
    "    print(x)\n",
    "text_tokens.foreach(printmap)\n",
    "values = text_tokens.filter(lambda x: x != '')\n",
    "print(values.count())\n",
    "#print(values)\n",
    "#values.foreach(printmap)"
   ]
  },
  {
   "cell_type": "code",
   "execution_count": 12,
   "metadata": {},
   "outputs": [
    {
     "name": "stdout",
     "output_type": "stream",
     "text": [
      "100\n"
     ]
    }
   ],
   "source": [
    "from operator import add\n",
    "totalCount = (values.map(lambda x: 1).reduce(add))\n",
    "print(totalCount)"
   ]
  },
  {
   "cell_type": "code",
   "execution_count": null,
   "metadata": {},
   "outputs": [],
   "source": []
  },
  {
   "cell_type": "code",
   "execution_count": null,
   "metadata": {},
   "outputs": [],
   "source": []
  },
  {
   "cell_type": "code",
   "execution_count": null,
   "metadata": {},
   "outputs": [],
   "source": []
  },
  {
   "cell_type": "code",
   "execution_count": null,
   "metadata": {},
   "outputs": [],
   "source": []
  }
 ],
 "metadata": {
  "kernelspec": {
   "display_name": "Python 3",
   "language": "python",
   "name": "python3"
  },
  "language_info": {
   "codemirror_mode": {
    "name": "ipython",
    "version": 3
   },
   "file_extension": ".py",
   "mimetype": "text/x-python",
   "name": "python",
   "nbconvert_exporter": "python",
   "pygments_lexer": "ipython3",
   "version": "3.6.7"
  }
 },
 "nbformat": 4,
 "nbformat_minor": 2
}
